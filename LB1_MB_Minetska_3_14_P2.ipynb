{
  "cells": [
    {
      "cell_type": "markdown",
      "metadata": {
        "id": "view-in-github",
        "colab_type": "text"
      },
      "source": [
        "<a href=\"https://colab.research.google.com/github/Minecka2023/MB_Minetska_3-14/blob/main/LB1_MB_Minetska_3_14_P2.ipynb\" target=\"_parent\"><img src=\"https://colab.research.google.com/assets/colab-badge.svg\" alt=\"Open In Colab\"/></a>"
      ]
    },
    {
      "cell_type": "markdown",
      "metadata": {
        "id": "Z1CUEo_SW8ms"
      },
      "source": [
        "# Семинар 1"
      ]
    },
    {
      "cell_type": "markdown",
      "metadata": {
        "id": "xuiqQb4KW8mw"
      },
      "source": [
        "- про Jupyter Notebook: https://devpractice.ru/python-lesson-6-work-in-jupyter-notebook/"
      ]
    },
    {
      "cell_type": "markdown",
      "metadata": {
        "id": "wYf1ARFzW8mw"
      },
      "source": [
        "## numpy"
      ]
    },
    {
      "cell_type": "markdown",
      "metadata": {
        "id": "ZtvtPuwIW8mx"
      },
      "source": [
        "- документация: http://www.numpy.org/"
      ]
    },
    {
      "cell_type": "markdown",
      "metadata": {
        "id": "s-pfAJKRW8my"
      },
      "source": [
        "Библиотека numpy является удобным инструментом для работы с многомерными массивами с возможностью векторизации вычислений. Рассмотрим базовые вещи, которые можно делать с помощью нее."
      ]
    },
    {
      "cell_type": "code",
      "execution_count": null,
      "metadata": {
        "id": "LcXzmKyFW8my"
      },
      "outputs": [],
      "source": [
        "import numpy as np"
      ]
    },
    {
      "cell_type": "code",
      "execution_count": null,
      "metadata": {
        "id": "Mk6CYcFNW8m0"
      },
      "outputs": [],
      "source": [
        "vec = np.array([[1, 2], [3, 4], [5, 6]])"
      ]
    },
    {
      "cell_type": "code",
      "execution_count": null,
      "metadata": {
        "id": "SdNHUDW9W8m1"
      },
      "outputs": [],
      "source": [
        "vec"
      ]
    },
    {
      "cell_type": "code",
      "execution_count": null,
      "metadata": {
        "id": "kJMRwlpkW8m1"
      },
      "outputs": [],
      "source": [
        "print(vec)"
      ]
    },
    {
      "cell_type": "markdown",
      "metadata": {
        "id": "J8uX5jnDW8m2"
      },
      "source": [
        "С чем мы работаем?"
      ]
    },
    {
      "cell_type": "code",
      "execution_count": null,
      "metadata": {
        "id": "ExzLxdOkW8m2"
      },
      "outputs": [],
      "source": [
        "vec.dtype"
      ]
    },
    {
      "cell_type": "code",
      "execution_count": null,
      "metadata": {
        "id": "ngH-ZQJEW8m3"
      },
      "outputs": [],
      "source": [
        "type(vec)"
      ]
    },
    {
      "cell_type": "markdown",
      "metadata": {
        "id": "yTSAqUBOW8m3"
      },
      "source": [
        "Размер массива:"
      ]
    },
    {
      "cell_type": "code",
      "execution_count": null,
      "metadata": {
        "id": "o1OpmPfUW8m4"
      },
      "outputs": [],
      "source": [
        "vec.shape"
      ]
    },
    {
      "cell_type": "markdown",
      "metadata": {
        "id": "9NTtc250W8m4"
      },
      "source": [
        "Число осей:"
      ]
    },
    {
      "cell_type": "code",
      "execution_count": null,
      "metadata": {
        "id": "5apUURJJW8m5"
      },
      "outputs": [],
      "source": [
        "vec.ndim"
      ]
    },
    {
      "cell_type": "markdown",
      "metadata": {
        "id": "gPW8gJdpW8m5"
      },
      "source": [
        "У некоторых функций бывает параметр `axis`, который позволяет применить эту функцию по разным осям - в данном случае, по строкам или столбцам:"
      ]
    },
    {
      "cell_type": "code",
      "execution_count": null,
      "metadata": {
        "id": "Xr-z1q2OW8m6"
      },
      "outputs": [],
      "source": [
        "np.sum(vec)"
      ]
    },
    {
      "cell_type": "code",
      "execution_count": null,
      "metadata": {
        "id": "UKmR0HStW8m6"
      },
      "outputs": [],
      "source": [
        "np.sum(vec, axis=0)"
      ]
    },
    {
      "cell_type": "code",
      "execution_count": null,
      "metadata": {
        "id": "3ozhCOwmW8m7"
      },
      "outputs": [],
      "source": [
        "np.sum(vec, axis=1)"
      ]
    },
    {
      "cell_type": "code",
      "execution_count": null,
      "metadata": {
        "id": "C5IeYAyXW8m7"
      },
      "outputs": [],
      "source": [
        "vec.sum()"
      ]
    },
    {
      "cell_type": "markdown",
      "metadata": {
        "id": "GS7o_hMZW8m8"
      },
      "source": [
        "Транспонируем массив:"
      ]
    },
    {
      "cell_type": "code",
      "execution_count": null,
      "metadata": {
        "id": "t4WJEZBsW8m8"
      },
      "outputs": [],
      "source": [
        "vec.T"
      ]
    },
    {
      "cell_type": "code",
      "execution_count": null,
      "metadata": {
        "id": "spPZy55CW8m8"
      },
      "outputs": [],
      "source": [
        "vec.transpose()"
      ]
    },
    {
      "cell_type": "markdown",
      "metadata": {
        "id": "zdBDNfOtW8m8"
      },
      "source": [
        "Обратите внимание, что переменная `vec` не поменялась!"
      ]
    },
    {
      "cell_type": "code",
      "execution_count": null,
      "metadata": {
        "id": "c4wPCH0WW8m9"
      },
      "outputs": [],
      "source": [
        "vec"
      ]
    },
    {
      "cell_type": "markdown",
      "metadata": {
        "id": "GoBWAaIZW8m9"
      },
      "source": [
        "Размеры массивов можно менять:"
      ]
    },
    {
      "cell_type": "code",
      "execution_count": null,
      "metadata": {
        "id": "dBquTjFnW8m9"
      },
      "outputs": [],
      "source": [
        "vec.reshape(2, 3)"
      ]
    },
    {
      "cell_type": "code",
      "execution_count": null,
      "metadata": {
        "id": "Br8xGBNvW8m-"
      },
      "outputs": [],
      "source": [
        "vec.reshape(-1, 3)"
      ]
    },
    {
      "cell_type": "code",
      "execution_count": null,
      "metadata": {
        "id": "GzwNjdEyW8m-"
      },
      "outputs": [],
      "source": [
        "vec.reshape(2, -1)"
      ]
    },
    {
      "cell_type": "markdown",
      "metadata": {
        "id": "KOEqrtd9W8m-"
      },
      "source": [
        "Индексирование:"
      ]
    },
    {
      "cell_type": "code",
      "execution_count": null,
      "metadata": {
        "id": "R2M2zzcGW8m-"
      },
      "outputs": [],
      "source": [
        "vec[:, 1]"
      ]
    },
    {
      "cell_type": "code",
      "execution_count": null,
      "metadata": {
        "id": "wwe680EAW8m_"
      },
      "outputs": [],
      "source": [
        "vec[2, :]"
      ]
    },
    {
      "cell_type": "code",
      "execution_count": null,
      "metadata": {
        "id": "wNGM8mRiW8m_"
      },
      "outputs": [],
      "source": [
        "vec[1:2, 0]"
      ]
    },
    {
      "cell_type": "code",
      "execution_count": null,
      "metadata": {
        "id": "oDNoUq8YW8m_"
      },
      "outputs": [],
      "source": [
        "vec[::2, :]"
      ]
    },
    {
      "cell_type": "code",
      "execution_count": null,
      "metadata": {
        "id": "WSifJnjMW8m_"
      },
      "outputs": [],
      "source": [
        "vec[vec % 2 == 0]"
      ]
    },
    {
      "cell_type": "markdown",
      "metadata": {
        "id": "nXhn8cXjW8nA"
      },
      "source": [
        "Иногда бывает полезно создавать специфичные массивы. Массив из нулей:"
      ]
    },
    {
      "cell_type": "code",
      "execution_count": null,
      "metadata": {
        "id": "Gg84d2KKW8nA"
      },
      "outputs": [],
      "source": [
        "np.zeros((2, 3))"
      ]
    },
    {
      "cell_type": "markdown",
      "metadata": {
        "id": "k5sZH3ydW8nB"
      },
      "source": [
        "Массив из единиц:"
      ]
    },
    {
      "cell_type": "code",
      "execution_count": null,
      "metadata": {
        "id": "0kuMtJPgW8nC"
      },
      "outputs": [],
      "source": [
        "np.ones((3, 2))"
      ]
    },
    {
      "cell_type": "markdown",
      "metadata": {
        "id": "hifxNub1W8nD"
      },
      "source": [
        "Единичная матрица:"
      ]
    },
    {
      "cell_type": "code",
      "execution_count": null,
      "metadata": {
        "id": "RaUJoPajW8nD"
      },
      "outputs": [],
      "source": [
        "np.identity(5)"
      ]
    },
    {
      "cell_type": "markdown",
      "metadata": {
        "id": "pc7CdPwqW8nE"
      },
      "source": [
        "Массивы можно объединять:"
      ]
    },
    {
      "cell_type": "code",
      "execution_count": null,
      "metadata": {
        "id": "AUWnWI64W8nE"
      },
      "outputs": [],
      "source": [
        "vec"
      ]
    },
    {
      "cell_type": "code",
      "execution_count": null,
      "metadata": {
        "id": "akecKIeXW8nF"
      },
      "outputs": [],
      "source": [
        "np.hstack((vec, np.zeros(vec.shape)))"
      ]
    },
    {
      "cell_type": "code",
      "execution_count": null,
      "metadata": {
        "id": "Pe4cYUzoW8nF"
      },
      "outputs": [],
      "source": [
        "np.vstack((vec, np.zeros(vec.shape)))"
      ]
    },
    {
      "cell_type": "markdown",
      "metadata": {
        "id": "6ih8_z29W8nF"
      },
      "source": [
        "И, наконец - арифметические операции!"
      ]
    },
    {
      "cell_type": "code",
      "execution_count": null,
      "metadata": {
        "id": "IIYn-3EfW8nF"
      },
      "outputs": [],
      "source": [
        "vec + 1"
      ]
    },
    {
      "cell_type": "code",
      "execution_count": null,
      "metadata": {
        "id": "hohhJuYqW8nG"
      },
      "outputs": [],
      "source": [
        "vec * 2"
      ]
    },
    {
      "cell_type": "code",
      "execution_count": null,
      "metadata": {
        "id": "ddp5LaBKW8nG"
      },
      "outputs": [],
      "source": [
        "vec ** 2"
      ]
    },
    {
      "cell_type": "code",
      "execution_count": null,
      "metadata": {
        "id": "jQQPaiLMW8nG"
      },
      "outputs": [],
      "source": [
        "vec + vec ** 2"
      ]
    },
    {
      "cell_type": "code",
      "execution_count": null,
      "metadata": {
        "id": "VAeF5DqRW8nH"
      },
      "outputs": [],
      "source": [
        "vec * vec ** 2"
      ]
    },
    {
      "cell_type": "code",
      "execution_count": null,
      "metadata": {
        "id": "wy6dY0MsW8nH"
      },
      "outputs": [],
      "source": [
        "np.sin(vec)"
      ]
    },
    {
      "cell_type": "markdown",
      "metadata": {
        "id": "rA7iT8giW8nI"
      },
      "source": [
        "Матричное умножение:"
      ]
    },
    {
      "cell_type": "code",
      "execution_count": null,
      "metadata": {
        "id": "Nqly41GmW8nI"
      },
      "outputs": [],
      "source": [
        "vec.dot(vec ** 2)"
      ]
    },
    {
      "cell_type": "code",
      "execution_count": null,
      "metadata": {
        "id": "iSyP42bCW8nJ"
      },
      "outputs": [],
      "source": [
        "vec.dot((vec ** 2).T)"
      ]
    },
    {
      "cell_type": "code",
      "execution_count": null,
      "metadata": {
        "id": "pVp8xSUiW8nJ"
      },
      "outputs": [],
      "source": [
        "vec @ (vec ** 2).T"
      ]
    },
    {
      "cell_type": "markdown",
      "metadata": {
        "id": "4L9Ct97EW8nK"
      },
      "source": [
        "Broadcasting:\n",
        "https://docs.scipy.org/doc/numpy-1.15.0/user/basics.broadcasting.html"
      ]
    },
    {
      "cell_type": "code",
      "execution_count": null,
      "metadata": {
        "id": "_8V0JCYIW8nK"
      },
      "outputs": [],
      "source": [
        "vec"
      ]
    },
    {
      "cell_type": "code",
      "execution_count": null,
      "metadata": {
        "id": "H4MwagdrW8nL"
      },
      "outputs": [],
      "source": [
        "np.arange(3).reshape(3, 1)"
      ]
    },
    {
      "cell_type": "code",
      "execution_count": null,
      "metadata": {
        "id": "BG6ZQ-ftW8nM"
      },
      "outputs": [],
      "source": [
        "vec + np.arange(3).reshape(3, 1)"
      ]
    },
    {
      "cell_type": "markdown",
      "metadata": {
        "id": "-NenWOWnW8nM"
      },
      "source": [
        "Генерация случайных чисел:"
      ]
    },
    {
      "cell_type": "code",
      "execution_count": null,
      "metadata": {
        "id": "qBUslHFGW8nN"
      },
      "outputs": [],
      "source": [
        "np.random.rand(2, 3)"
      ]
    },
    {
      "cell_type": "code",
      "execution_count": null,
      "metadata": {
        "id": "PKTwv7GJW8nN"
      },
      "outputs": [],
      "source": [
        "np.random.seed(2019)\n",
        "np.random.rand(2, 3)"
      ]
    },
    {
      "cell_type": "code",
      "execution_count": null,
      "metadata": {
        "id": "Cb6oOvXqW8nO"
      },
      "outputs": [],
      "source": [
        "np.random.randn(3, 2)"
      ]
    },
    {
      "cell_type": "code",
      "execution_count": null,
      "metadata": {
        "id": "I-Bw9EdzW8nO"
      },
      "outputs": [],
      "source": [
        "np.random.normal(2, 1, size=3)"
      ]
    },
    {
      "cell_type": "code",
      "execution_count": null,
      "metadata": {
        "id": "2983abUPW8nP"
      },
      "outputs": [],
      "source": [
        "np.random.randint(5, 10, size=3)"
      ]
    },
    {
      "cell_type": "markdown",
      "metadata": {
        "id": "ESOOmKIoW8nP"
      },
      "source": [
        "Почему вообще используют `numpy`?"
      ]
    },
    {
      "cell_type": "code",
      "execution_count": null,
      "metadata": {
        "id": "XdzOK_5DW8nQ"
      },
      "outputs": [],
      "source": [
        "n = 300\n",
        "A = np.random.rand(n, n)\n",
        "B = np.random.rand(n, n)"
      ]
    },
    {
      "cell_type": "code",
      "execution_count": null,
      "metadata": {
        "id": "erZ7to7KW8nQ"
      },
      "outputs": [],
      "source": [
        "%%time\n",
        "C = np.zeros((n, n))\n",
        "for i in range(n):\n",
        "    for j in range(n):\n",
        "        for k in range(n):\n",
        "            C[i, j] += A[i, k] * B[k, j]"
      ]
    },
    {
      "cell_type": "code",
      "execution_count": null,
      "metadata": {
        "id": "Dc1XK25vW8nR"
      },
      "outputs": [],
      "source": [
        "%%time\n",
        "C = A @ B"
      ]
    },
    {
      "cell_type": "markdown",
      "metadata": {
        "id": "_cDVP0oOW8nR"
      },
      "source": [
        "### Задания для самостоятельного решения"
      ]
    },
    {
      "cell_type": "markdown",
      "metadata": {
        "id": "lXvgXTqOW8nS"
      },
      "source": [
        "1. Развернуть одномерный массив (сделать так, чтобы его элементы шли в обратном порядке).\n",
        "2. Найти максимальный нечетный элемент в массиве.\n",
        "3. Замените все нечетные элементы массива на ваше любимое число.\n",
        "4. Создайте массив первых n нечетных чисел, записанных в порядке убывания. Например, если `n=5`, то ответом будет `array([9, 7, 5, 3, 1])`. *Функции, которые могут пригодиться при решении: `.arange()`*\n",
        "5. Вычислите самое близкое и самое дальнее числа к данному в рассматриваемом массиве чисел. Например, если на вход поступают массив `array([0, 1, 2, 3, 4])` и число 1.33, то ответом будет `(1, 4)`. _Функции, которые могут пригодиться при решении: `.abs()`, `.argmax()`, `.argmin()`_\n",
        "6. Вычисляющую первообразную заданного полинома (в качестве константы возьмите ваше любимое число). Например, если на вход поступает массив коэффициентов `array([4, 6, 0, 1])`, что соответствует полиному $4x^3 + 6x^2 + 1$, на выходе получается массив коэффициентов `array([1, 2, 0, 1, -2])`, соответствующий полиному $x^4 + 2x^3 + x - 2$. _Функции, которые могут пригодиться при решении: `.append()`_\n",
        "7. Пользуясь пунктом 6, посчитайте первую производную для заданного полинома в заданной точке."
      ]
    },
    {
      "cell_type": "code",
      "execution_count": 32,
      "metadata": {
        "colab": {
          "base_uri": "https://localhost:8080/"
        },
        "id": "52gVYHC3W8nS",
        "outputId": "51e53faa-5682-4b54-f984-464dce7b0e27"
      },
      "outputs": [
        {
          "output_type": "stream",
          "name": "stdout",
          "text": [
            "[22 19 17 14 12 11  9  8  7  6  3  1]\n"
          ]
        }
      ],
      "source": [
        "import numpy as np\n",
        "# задание 1\n",
        "vec = np.array([1, 3, 6, 7, 8, 9, 11, 12, 14, 17, 19, 22])\n",
        "reversed_vec = vec[::-1]\n",
        "print(reversed_vec)"
      ]
    },
    {
      "cell_type": "code",
      "source": [
        "# задание 2\n",
        "max_odd = np.max(vec[vec % 2 != 0])\n",
        "print(\"Максимальный нечетный элемент:\", max_odd)"
      ],
      "metadata": {
        "colab": {
          "base_uri": "https://localhost:8080/"
        },
        "id": "_N7PwFWGhSj5",
        "outputId": "cd625315-ff6f-44f3-d181-62ac041351e7"
      },
      "execution_count": 34,
      "outputs": [
        {
          "output_type": "stream",
          "name": "stdout",
          "text": [
            "Максимальный нечетный элемент: 19\n"
          ]
        }
      ]
    },
    {
      "cell_type": "code",
      "source": [
        "# задание 3\n",
        "vec[vec % 2 == 1] = 7\n",
        "print(\"Массив с замененными нечетными элементами на 7:\", vec)"
      ],
      "metadata": {
        "colab": {
          "base_uri": "https://localhost:8080/"
        },
        "id": "EOC19H_sadn5",
        "outputId": "fd872636-d00a-4e28-be5e-83ecfee664b3"
      },
      "execution_count": 37,
      "outputs": [
        {
          "output_type": "stream",
          "name": "stdout",
          "text": [
            "Массив с замененными нечетными элементами на 7: [ 7  7  6  7  8  7  7 12 14  7  7 22]\n"
          ]
        }
      ]
    },
    {
      "cell_type": "code",
      "source": [
        "# задание 4\n",
        "import numpy as np\n",
        "vec = np.array([1, 3, 6, 7, 8, 9, 11, 12, 14, 17, 19, 22])\n",
        "first_6_odd_numbers = vec[vec % 2 == 1][:6][::-1]\n",
        "print(\"Первые 6 нечетных чисел в порядке убывания:\", first_6_odd_numbers)\n"
      ],
      "metadata": {
        "colab": {
          "base_uri": "https://localhost:8080/"
        },
        "id": "Y42yLt_Ki4tL",
        "outputId": "4d89ad1d-198a-4005-a0f9-184dce39d609"
      },
      "execution_count": 47,
      "outputs": [
        {
          "output_type": "stream",
          "name": "stdout",
          "text": [
            "Первые 6 нечетных чисел в порядке убывания: [17 11  9  7  3  1]\n"
          ]
        }
      ]
    },
    {
      "cell_type": "code",
      "source": [
        "# задание 5\n",
        "number_to_check = 11\n",
        "closest_number = vec[np.abs(vec - number_to_check).argmin()]\n",
        "farthest_number = vec[np.abs(vec - number_to_check).argmax()]\n",
        "print(f\"Самое близкое число к {number_to_check}: {closest_number}\")\n",
        "print(f\"Самое дальнее число от {number_to_check}: {farthest_number}\")"
      ],
      "metadata": {
        "colab": {
          "base_uri": "https://localhost:8080/"
        },
        "id": "-bZPEoXfiFOd",
        "outputId": "57e29ece-d831-468e-c48b-6ef70bcec5d8"
      },
      "execution_count": 41,
      "outputs": [
        {
          "output_type": "stream",
          "name": "stdout",
          "text": [
            "Самое близкое число к 11: 12\n",
            "Самое дальнее число от 11: 22\n"
          ]
        }
      ]
    },
    {
      "cell_type": "code",
      "source": [
        "# задание 6\n",
        "def integral_polynomial(coefficients, constant):\n",
        "    result = np.array([])\n",
        "    for i, coef in enumerate(coefficients):\n",
        "        power = len(coefficients) - i - 1\n",
        "        integral_coef = coef / (power + 1)\n",
        "        result = np.append(result, integral_coef)\n",
        "    result = np.append(result, constant)\n",
        "    return result\n",
        "\n",
        "polynomial_coeffs = np.array([1, 3, 6, 7, 8, 9, 11, 12, 14, 17, 19, 22])\n",
        "constant = 7\n",
        "integral_result = integral_polynomial(polynomial_coeffs, constant)\n",
        "print(\"Первообразная полинома:\", integral_result)"
      ],
      "metadata": {
        "colab": {
          "base_uri": "https://localhost:8080/"
        },
        "id": "xbREKPNGidWs",
        "outputId": "9d7a4157-1856-46b5-bd54-70acaee44ac7"
      },
      "execution_count": 54,
      "outputs": [
        {
          "output_type": "stream",
          "name": "stdout",
          "text": [
            "Первообразная полинома: [ 0.08333333  0.27272727  0.6         0.77777778  1.          1.28571429\n",
            "  1.83333333  2.4         3.5         5.66666667  9.5        22.\n",
            "  7.        ]\n"
          ]
        }
      ]
    },
    {
      "cell_type": "code",
      "source": [
        "# задание 7\n",
        "x = 7\n",
        "deriv_p = np.polyder(p)\n",
        "value_at_x = deriv_p(x)\n",
        "print(\"Значение первой производной в\", x, \":\", value_at_x)"
      ],
      "metadata": {
        "colab": {
          "base_uri": "https://localhost:8080/"
        },
        "id": "09pITM3ClAIs",
        "outputId": "5fc84581-877f-45a5-afe9-6bb54e5ead05"
      },
      "execution_count": 55,
      "outputs": [
        {
          "output_type": "stream",
          "name": "stdout",
          "text": [
            "Значение первой производной в 7 : 16\n"
          ]
        }
      ]
    }
  ],
  "metadata": {
    "kernelspec": {
      "display_name": "Python 3",
      "language": "python",
      "name": "python3"
    },
    "language_info": {
      "codemirror_mode": {
        "name": "ipython",
        "version": 3
      },
      "file_extension": ".py",
      "mimetype": "text/x-python",
      "name": "python",
      "nbconvert_exporter": "python",
      "pygments_lexer": "ipython3",
      "version": "3.6.3"
    },
    "colab": {
      "provenance": [],
      "include_colab_link": true
    }
  },
  "nbformat": 4,
  "nbformat_minor": 0
}