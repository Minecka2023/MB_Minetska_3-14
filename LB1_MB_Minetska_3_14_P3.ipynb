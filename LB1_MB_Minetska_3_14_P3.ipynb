{
  "cells": [
    {
      "cell_type": "markdown",
      "metadata": {
        "id": "view-in-github",
        "colab_type": "text"
      },
      "source": [
        "<a href=\"https://colab.research.google.com/github/Minecka2023/MB_Minetska_3-14/blob/main/LB1_MB_Minetska_3_14_P3.ipynb\" target=\"_parent\"><img src=\"https://colab.research.google.com/assets/colab-badge.svg\" alt=\"Open In Colab\"/></a>"
      ]
    },
    {
      "cell_type": "markdown",
      "metadata": {
        "id": "YG73mLITlti6"
      },
      "source": [
        "# Семинар 1"
      ]
    },
    {
      "cell_type": "markdown",
      "metadata": {
        "id": "YTFFa3clltjc"
      },
      "source": [
        "### Задания для самостоятельного решения"
      ]
    },
    {
      "cell_type": "markdown",
      "metadata": {
        "id": "5Svbybb_ltjc"
      },
      "source": [
        "1. Получите таблицу со студентами с четными номерами.\n",
        "2. Получите таблицу со студентами, имеющими четное число пропусков.\n",
        "3. Верно ли, что студенты, имеющие больше 10 пропусков, учатся хуже, чем остальные?\n",
        "4. Как вы думаете, какие еще признаки могут повлиять на итоговую оценку? Найдите закономерности, аналогичные рассмотренным.\n",
        "5. Как вы думаете, если при школе откроется общежитие, насколько актуально это будет для студентов математического класса?\n",
        "6. Найдите в данных закономерности с помощью группировки."
      ]
    },
    {
      "cell_type": "code",
      "execution_count": null,
      "metadata": {
        "colab": {
          "base_uri": "https://localhost:8080/"
        },
        "id": "a1qZZV5hltjd",
        "outputId": "82c40311-aad4-43de-aebb-f4f29840102c"
      },
      "outputs": [
        {
          "output_type": "stream",
          "name": "stdout",
          "text": [
            "    school sex  age address famsize Pstatus  Medu  Fedu      Mjob      Fjob  \\\n",
            "0       GP   F   18       U     GT3       A     4     4   at_home   teacher   \n",
            "1       GP   F   17       U     GT3       T     1     1   at_home     other   \n",
            "2       GP   F   15       U     LE3       T     1     1   at_home     other   \n",
            "3       GP   F   15       U     GT3       T     4     2    health  services   \n",
            "4       GP   F   16       U     GT3       T     3     3     other     other   \n",
            "..     ...  ..  ...     ...     ...     ...   ...   ...       ...       ...   \n",
            "390     MS   M   20       U     LE3       A     2     2  services  services   \n",
            "391     MS   M   17       U     LE3       T     3     1  services  services   \n",
            "392     MS   M   21       R     GT3       T     1     1     other     other   \n",
            "393     MS   M   18       R     LE3       T     3     2  services     other   \n",
            "394     MS   M   19       U     LE3       T     1     1     other   at_home   \n",
            "\n",
            "     ... famrel freetime  goout  Dalc  Walc health absences  G1  G2  G3  \n",
            "0    ...      4        3      4     1     1      3        6   5   6   6  \n",
            "1    ...      5        3      3     1     1      3        4   5   5   6  \n",
            "2    ...      4        3      2     2     3      3       10   7   8  10  \n",
            "3    ...      3        2      2     1     1      5        2  15  14  15  \n",
            "4    ...      4        3      2     1     2      5        4   6  10  10  \n",
            "..   ...    ...      ...    ...   ...   ...    ...      ...  ..  ..  ..  \n",
            "390  ...      5        5      4     4     5      4       11   9   9   9  \n",
            "391  ...      2        4      5     3     4      2        3  14  16  16  \n",
            "392  ...      5        5      3     3     3      3        3  10   8   7  \n",
            "393  ...      4        4      1     3     4      5        0  11  12  10  \n",
            "394  ...      3        2      3     3     3      5        5   8   9   9  \n",
            "\n",
            "[395 rows x 33 columns]\n",
            "Студенты с более чем 10 пропусками учатся хуже.\n",
            "Уровень образования родителей (Medu, Fedu):\n",
            "Medu  Fedu\n",
            "0     1        9.000000\n",
            "      2       15.000000\n",
            "1     0       16.000000\n",
            "      1        8.297297\n",
            "      2        9.333333\n",
            "      3        7.200000\n",
            "      4       13.000000\n",
            "2     1        9.214286\n",
            "      2        9.333333\n",
            "      3       10.529412\n",
            "      4       12.714286\n",
            "3     1       11.266667\n",
            "      2       10.321429\n",
            "      3       10.236842\n",
            "      4        9.611111\n",
            "4     0       10.000000\n",
            "      1        8.000000\n",
            "      2       12.894737\n",
            "      3       11.550000\n",
            "      4       11.657143\n",
            "Name: G3, dtype: float64\n",
            "\n",
            "Семейные отношения (famrel):\n",
            "famrel\n",
            "1    10.625000\n",
            "2     9.888889\n",
            "3    10.044118\n",
            "4    10.358974\n",
            "5    10.830189\n",
            "Name: G3, dtype: float64\n",
            "\n",
            "Время, проведенное с друзьями (goout):\n",
            "goout\n",
            "1     9.869565\n",
            "2    11.194175\n",
            "3    10.961538\n",
            "4     9.651163\n",
            "5     9.037736\n",
            "Name: G3, dtype: float64\n",
            "\n",
            "Потребление алкоголя (Dalc, Walc):\n",
            "Dalc  Walc\n",
            "1     1       10.806667\n",
            "      2       10.430769\n",
            "      3       11.095238\n",
            "      4       10.266667\n",
            "      5       10.750000\n",
            "2     1        0.000000\n",
            "      2        8.666667\n",
            "      3       10.655172\n",
            "      4        8.318182\n",
            "      5        9.200000\n",
            "3     2       12.000000\n",
            "      3        9.750000\n",
            "      4       11.181818\n",
            "      5       10.000000\n",
            "4     2       11.000000\n",
            "      3        5.000000\n",
            "      4       11.333333\n",
            "      5        9.750000\n",
            "5     5       10.666667\n",
            "Name: G3, dtype: float64\n",
            "\n",
            "Здоровье (health):\n",
            "health\n",
            "1    11.872340\n",
            "2    10.222222\n",
            "3    10.010989\n",
            "4    10.106061\n",
            "5    10.397260\n",
            "Name: G3, dtype: float64\n",
            "Открытие общежития не актуально для студентов математического класса.\n",
            "sex\n",
            "F     9.966346\n",
            "M    10.914439\n",
            "Name: G3, dtype: float64\n"
          ]
        }
      ],
      "source": [
        "import pandas as pd\n",
        "\n",
        "# Загрузим данные\n",
        "data = pd.read_csv('math_students.csv')\n",
        "\n",
        "print(data)\n",
        "# Получение таблицы со студентами с четными номерами\n",
        "students_with_even_numbers = data[data['school'].str.contains('GP') & (data.index % 2 == 0)]\n",
        "\n",
        "# Получение таблицы со студентами, имеющими четное число пропусков\n",
        "students_with_even_absences = data[data['absences'] % 2 == 0]\n",
        "\n",
        "#Верно ли, что студенты, имеющие больше 10 пропусков, учатся хуже, чем остальные?\n",
        "average_grade_high_absences = data[data['absences'] > 10]['G3'].mean()\n",
        "average_grade_low_absences = data[data['absences'] <= 10]['G3'].mean()\n",
        "\n",
        "if average_grade_high_absences < average_grade_low_absences:\n",
        "    print(\"Студенты с более чем 10 пропусками учатся хуже.\")\n",
        "else:\n",
        "    print(\"Студенты с более чем 10 пропусками не обязательно учатся хуже.\")\n",
        "\n",
        "#Как вы думаете, какие еще признаки могут повлиять на итоговую оценку? Найдите закономерности, аналогичные рассмотренным.\n",
        "\n",
        "# Уровень образования родителей (Medu, Fedu)\n",
        "edu_effect = data.groupby(['Medu', 'Fedu'])['G3'].mean()\n",
        "\n",
        "# Семейные отношения (famrel)\n",
        "family_relationship_effect = data.groupby('famrel')['G3'].mean()\n",
        "\n",
        "# Время, проведенное с друзьями (goout)\n",
        "time_with_friends_effect = data.groupby('goout')['G3'].mean()\n",
        "\n",
        "# Потребление алкоголя (Dalc, Walc)\n",
        "alcohol_consumption_effect = data.groupby(['Dalc', 'Walc'])['G3'].mean()\n",
        "\n",
        "# Здоровье (health)\n",
        "health_effect = data.groupby('health')['G3'].mean()\n",
        "\n",
        "\n",
        "# Выведем результаты\n",
        "print(\"Уровень образования родителей (Medu, Fedu):\")\n",
        "print(edu_effect)\n",
        "print(\"\\nСемейные отношения (famrel):\")\n",
        "print(family_relationship_effect)\n",
        "print(\"\\nВремя, проведенное с друзьями (goout):\")\n",
        "print(time_with_friends_effect)\n",
        "print(\"\\nПотребление алкоголя (Dalc, Walc):\")\n",
        "print(alcohol_consumption_effect)\n",
        "print(\"\\nЗдоровье (health):\")\n",
        "print(health_effect)\n",
        "\n",
        "\n",
        "#Как вы думаете, если при школе откроется общежитие, насколько актуально это будет для студентов математического класса?\n",
        "distance_to_school = data['address'].value_counts(normalize=True)\n",
        "financial_situation = data['famsize'].value_counts(normalize=True)\n",
        "\n",
        "if distance_to_school['R'] > 0.5 and financial_situation['LE3'] > 0.5:\n",
        "    print(\"Открытие общежития актуально для студентов математического класса.\")\n",
        "else:\n",
        "    print(\"Открытие общежития не актуально для студентов математического класса.\")\n",
        "#Найдите в данных закономерности с помощью группировки.\n",
        "average_grade_by_gender = data.groupby('sex')['G3'].mean()\n",
        "print(average_grade_by_gender)\n"
      ]
    }
  ],
  "metadata": {
    "kernelspec": {
      "display_name": "Python 3",
      "language": "python",
      "name": "python3"
    },
    "language_info": {
      "codemirror_mode": {
        "name": "ipython",
        "version": 3
      },
      "file_extension": ".py",
      "mimetype": "text/x-python",
      "name": "python",
      "nbconvert_exporter": "python",
      "pygments_lexer": "ipython3",
      "version": "3.6.3"
    },
    "colab": {
      "provenance": [],
      "include_colab_link": true
    }
  },
  "nbformat": 4,
  "nbformat_minor": 0
}