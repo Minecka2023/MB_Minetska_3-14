{
  "cells": [
    {
      "cell_type": "markdown",
      "metadata": {
        "id": "view-in-github",
        "colab_type": "text"
      },
      "source": [
        "<a href=\"https://colab.research.google.com/github/Minecka2023/MB_Minetska_3-14/blob/main/LB5_MB_Minetska_3_14.ipynb\" target=\"_parent\"><img src=\"https://colab.research.google.com/assets/colab-badge.svg\" alt=\"Open In Colab\"/></a>"
      ]
    },
    {
      "cell_type": "code",
      "execution_count": null,
      "id": "28afdc48-fb43-49b2-a465-e7fc7cb06232",
      "metadata": {
        "id": "28afdc48-fb43-49b2-a465-e7fc7cb06232",
        "outputId": "f0a5829a-d339-4876-e4ea-7d9adbe9f6b1"
      },
      "outputs": [
        {
          "name": "stdout",
          "output_type": "stream",
          "text": [
            "Random Forest Accuracy: 0.9615\n",
            "Gradient Boosting Accuracy: 0.9205\n",
            "Hard Voting Accuracy: 0.925\n",
            "Soft Voting Accuracy: 0.9225\n",
            "Stacking Accuracy: 0.9325\n",
            "Model not fitted yet: This LogisticRegression instance is not fitted yet. Call 'fit' with appropriate arguments before using this estimator.\n"
          ]
        }
      ],
      "source": [
        "import numpy as np\n",
        "import warnings\n",
        "from sklearn.exceptions import ConvergenceWarning\n",
        "from sklearn.exceptions import NotFittedError  # Доданий імпорт\n",
        "\n",
        "with warnings.catch_warnings():\n",
        "    warnings.filterwarnings(\"ignore\", category=ConvergenceWarning)\n",
        "    rf_model.fit(X_rf_gb_train, y_rf_gb_train)\n",
        "    rf_accuracy = accuracy_score(y_rf_gb_test, rf_model.predict(X_rf_gb_test))\n",
        "    print(\"Random Forest Accuracy:\", rf_accuracy)\n",
        "\n",
        "    gb_model.fit(X_rf_gb_train, y_rf_gb_train)\n",
        "    gb_accuracy = accuracy_score(y_rf_gb_test, gb_model.predict(X_rf_gb_test))\n",
        "    print(\"Gradient Boosting Accuracy:\", gb_accuracy)\n",
        "\n",
        "    try:\n",
        "        voting_hard.fit(X_voting_train, y_voting_train)\n",
        "        voting_hard_accuracy = accuracy_score(y_voting_test, voting_hard.predict(X_voting_test))\n",
        "        print(\"Hard Voting Accuracy:\", voting_hard_accuracy)\n",
        "\n",
        "        voting_soft.fit(X_voting_train, y_voting_train)\n",
        "        voting_soft_accuracy = accuracy_score(y_voting_test, voting_soft.predict(X_voting_test))\n",
        "        print(\"Soft Voting Accuracy:\", voting_soft_accuracy)\n",
        "\n",
        "        stacking_model.fit(X_stacking_train, y_stacking_train)\n",
        "        stacking_accuracy = accuracy_score(y_stacking_test, stacking_model.predict(X_stacking_test))\n",
        "        print(\"Stacking Accuracy:\", stacking_accuracy)\n",
        "\n",
        "        blending_accuracy = accuracy_score(y_stacking_test, [chr(ord('A') + i) for i in blending_predict(X_stacking_test).argmax(axis=1)])\n",
        "        print(\"Blending Accuracy:\", blending_accuracy)\n",
        "    except NotFittedError as e:\n",
        "        print(f\"Model not fitted yet: {e}\")\n",
        "\n"
      ]
    },
    {
      "cell_type": "code",
      "execution_count": null,
      "id": "2f48db2c-c1be-4275-b2da-74ca5613c493",
      "metadata": {
        "id": "2f48db2c-c1be-4275-b2da-74ca5613c493",
        "outputId": "0b920d52-3e10-41a7-e625-61a570813b0e"
      },
      "outputs": [
        {
          "name": "stdout",
          "output_type": "stream",
          "text": [
            "Best Ensemble: Random Forest\n",
            "Most Important Features: Index(['x-ege', 'y-ege', 'y2bar', 'x2ybr', 'xy2br'], dtype='object')\n"
          ]
        }
      ],
      "source": [
        "# Визначення найкращого ансамблю серед всіх\n",
        "ensemble_accuracy = {\n",
        "    'Random Forest': rf_accuracy,\n",
        "    'Gradient Boosting': gb_accuracy,\n",
        "    'Hard Voting': voting_hard_accuracy,\n",
        "    'Soft Voting': voting_soft_accuracy,\n",
        "    'Stacking': stacking_accuracy\n",
        "}\n",
        "\n",
        "best_ensemble = max(ensemble_accuracy, key=ensemble_accuracy.get)\n",
        "print(\"Best Ensemble:\", best_ensemble)\n",
        "\n",
        "# Визначення найважливіших ознак датасету\n",
        "feature_importance = rf_model.feature_importances_\n",
        "important_features = X.columns[feature_importance.argsort()[::-1]]\n",
        "print(\"Most Important Features:\", important_features[:5])\n"
      ]
    },
    {
      "cell_type": "code",
      "execution_count": null,
      "id": "3a4878fe-439c-4e54-a0ae-67472f5bc5ca",
      "metadata": {
        "id": "3a4878fe-439c-4e54-a0ae-67472f5bc5ca"
      },
      "outputs": [],
      "source": []
    }
  ],
  "metadata": {
    "kernelspec": {
      "display_name": "Python 3 (ipykernel)",
      "language": "python",
      "name": "python3"
    },
    "language_info": {
      "codemirror_mode": {
        "name": "ipython",
        "version": 3
      },
      "file_extension": ".py",
      "mimetype": "text/x-python",
      "name": "python",
      "nbconvert_exporter": "python",
      "pygments_lexer": "ipython3",
      "version": "3.11.7"
    },
    "colab": {
      "provenance": [],
      "include_colab_link": true
    }
  },
  "nbformat": 4,
  "nbformat_minor": 5
}